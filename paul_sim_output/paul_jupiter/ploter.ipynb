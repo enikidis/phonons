{
 "cells": [
  {
   "cell_type": "code",
   "execution_count": null,
   "metadata": {},
   "outputs": [],
   "source": [
    "import matplotlib.pyplot as plt\n",
    "import numpy as np\n",
    "import pandas as pd\n",
    "from bokeh.plotting import figure, show, save, output_file\n",
    "from bokeh.embed import file_html\n",
    "from bokeh.models import LinearColorMapper, Range1d"
   ]
  },
  {
   "attachments": {},
   "cell_type": "markdown",
   "metadata": {},
   "source": [
    "opening the file"
   ]
  },
  {
   "cell_type": "code",
   "execution_count": null,
   "metadata": {},
   "outputs": [],
   "source": [
    "d=40\n",
    "for step in range(7, 16):\n",
    "    print(\"Reading data files\")\n",
    "    filename= fr\"C:\\Users\\nikidis\\Documents\\GitHub\\phonons\\paul_sim_output\\data\\{d}_data\\At{step}-{d}.0.csv\"\n",
    "    print(filename)\n",
    "    # The RIGHT way:        \n",
    "    colnames=['position', 'energy'] \n",
    "    atoms = pd.read_csv(fr\"{filename}\" , sep = \",\", names=colnames)\n",
    "    #370 390 410 430 450 470 490 500\n",
    "    fig = plt.figure()\n",
    "    plt.xlim([-10,10])\n",
    "    #plt.ylabel('Kinetic Energy')\n",
    "    plt.ylabel('$E/E_{max}$')\n",
    "    #plt.xlabel('Y (Sliced Dimension)')\n",
    "    plt.xlabel('X (Sliced Dimension)')\n",
    "\n",
    "    fig= plt.scatter(atoms.position, atoms.energy, s=2,label=\"at z=\")\n",
    "    plt.savefig(f'At{step}-{d}.0.png')\n",
    "    #plt.show()\n",
    "    # output to static HTML file\n",
    "    output_file(filename=f\"At{step}-{d}.0.html\", title=\"Static HTML file\")\n",
    "    TOOLS=\"hover,crosshair,pan,wheel_zoom,zoom_in,zoom_out,box_zoom,undo,redo,reset,tap,save,box_select,poly_select,lasso_select,examine,help\"\n",
    "    p = figure(tools=TOOLS)\n",
    "    p.x_range = Range1d(-20, 20)\n",
    "    p.scatter (atoms.position,atoms.energy, color=\"red\", alpha=0.5)\n",
    "    # show the results\n",
    "    #show(p)\n",
    "    save(p)\n"
   ]
  }
 ],
 "metadata": {
  "kernelspec": {
   "display_name": "Python 3",
   "language": "python",
   "name": "python3"
  },
  "language_info": {
   "codemirror_mode": {
    "name": "ipython",
    "version": 3
   },
   "file_extension": ".py",
   "mimetype": "text/x-python",
   "name": "python",
   "nbconvert_exporter": "python",
   "pygments_lexer": "ipython3",
   "version": "3.12.3"
  },
  "orig_nbformat": 4,
  "vscode": {
   "interpreter": {
    "hash": "31f2aee4e71d21fbe5cf8b01ff0e069b9275f58929596ceb00d14d90e3e16cd6"
   }
  }
 },
 "nbformat": 4,
 "nbformat_minor": 2
}
