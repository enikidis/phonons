{
 "cells": [
  {
   "cell_type": "code",
   "execution_count": null,
   "metadata": {},
   "outputs": [],
   "source": [
    "import matplotlib.pyplot as plt\n",
    "import numpy as np\n",
    "import pandas as pd\n",
    "from bokeh.plotting import figure, show, save, output_file\n",
    "from bokeh.embed import file_html\n",
    "from bokeh.models import LinearColorMapper"
   ]
  },
  {
   "cell_type": "markdown",
   "metadata": {},
   "source": [
    "opening the file"
   ]
  },
  {
   "cell_type": "code",
   "execution_count": null,
   "metadata": {},
   "outputs": [],
   "source": [
    "# The RIGHT way:        \n",
    "colnames=['position', 'energy'] \n",
    "atoms = pd.read_csv(\"/home/nikidis/Documents/GitHub/phonons/3dplot/slices/4_slices/4_450.csv\", sep = \",\", names=colnames)\n"
   ]
  },
  {
   "cell_type": "markdown",
   "metadata": {},
   "source": [
    "Printing the read data please comment it"
   ]
  },
  {
   "cell_type": "markdown",
   "metadata": {},
   "source": [
    "Define the figure"
   ]
  },
  {
   "cell_type": "code",
   "execution_count": null,
   "metadata": {},
   "outputs": [],
   "source": [
    "#370 390 410 430 450 470 490 500\n",
    "fig = plt.figure()\n",
    "plt.ylabel('Kinetic Energy')\n",
    "plt.xlabel('Y (Sliced Dimension)')\n",
    "fig= plt.scatter(atoms.position, atoms.energy, s=2)\n",
    "plt.savefig('14_450.png')\n",
    "plt.show()"
   ]
  },
  {
   "cell_type": "markdown",
   "metadata": {},
   "source": [
    "Find the max"
   ]
  },
  {
   "cell_type": "code",
   "execution_count": null,
   "metadata": {},
   "outputs": [],
   "source": [
    "# output to static HTML file\n",
    "output_file(filename=\"14_450.html\", title=\"Static HTML file\")\n",
    "TOOLS=\"hover,crosshair,pan,wheel_zoom,zoom_in,zoom_out,box_zoom,undo,redo,reset,tap,save,box_select,poly_select,lasso_select,examine,help\"\n",
    "p = figure(tools=TOOLS)\n",
    "p.scatter (atoms.position,atoms.energy, color=\"red\", alpha=0.5)\n",
    "# show the results\n",
    "#show(p)\n",
    "\n",
    "save(p)\n"
   ]
  }
 ],
 "metadata": {
  "kernelspec": {
   "display_name": "Python 3",
   "language": "python",
   "name": "python3"
  },
  "language_info": {
   "codemirror_mode": {
    "name": "ipython",
    "version": 3
   },
   "file_extension": ".py",
   "mimetype": "text/x-python",
   "name": "python",
   "nbconvert_exporter": "python",
   "pygments_lexer": "ipython3",
   "version": "3.9.6"
  },
  "orig_nbformat": 4,
  "vscode": {
   "interpreter": {
    "hash": "31f2aee4e71d21fbe5cf8b01ff0e069b9275f58929596ceb00d14d90e3e16cd6"
   }
  }
 },
 "nbformat": 4,
 "nbformat_minor": 2
}
